{
 "cells": [
  {
   "cell_type": "code",
   "execution_count": null,
   "metadata": {},
   "outputs": [],
   "source": [
    "import tensorflow as tf\n",
    "from tensorflow import keras\n",
    "import numpy as np\n",
    "import pandas as pd\n",
    "import matplotlib.pyplot as plt\n",
    "from sklearn import preprocessing"
   ]
  },
  {
   "cell_type": "code",
   "execution_count": null,
   "metadata": {},
   "outputs": [],
   "source": [
    "df = pd.read_csv('pokemon.csv')"
   ]
  },
  {
   "cell_type": "code",
   "execution_count": null,
   "metadata": {},
   "outputs": [],
   "source": [
    "df.columns"
   ]
  },
  {
   "cell_type": "code",
   "execution_count": null,
   "metadata": {},
   "outputs": [],
   "source": [
    "df = df[['isLegendary','Generation', 'Type_1', 'Type_2', 'HP', 'Attack', 'Defense', 'Sp_Atk', 'Sp_Def', 'Speed','Color','Egg_Group_1','Height_m','Weight_kg','Body_Style']]"
   ]
  },
  {
   "cell_type": "code",
   "execution_count": null,
   "metadata": {},
   "outputs": [],
   "source": [
    "df['isLegendary'] = df['isLegendary'].astype(int)"
   ]
  },
  {
   "cell_type": "code",
   "execution_count": null,
   "metadata": {},
   "outputs": [],
   "source": [
    "def dummy_creation(df, dummy_categories):\n",
    "    for i in dummy_categories:\n",
    "        df_dummy = pd.get_dummies(df[i])\n",
    "        df = pd.concat([df,df_dummy],axis=1)\n",
    "        df = df.drop(i, axis=1)\n",
    "    return(df)\n",
    "\n",
    "df = dummy_creation(df, ['Egg_Group_1', 'Body_Style', 'Color','Type_1', 'Type_2'])"
   ]
  },
  {
   "cell_type": "code",
   "execution_count": null,
   "metadata": {},
   "outputs": [],
   "source": [
    "def train_test_splitter(df, column):\n",
    "    df_train = df.loc[df[column] != 1]\n",
    "    df_test = df.loc[df[column] == 1]\n",
    "\n",
    "    df_train = df_train.drop(column, axis=1)\n",
    "    df_test = df_test.drop(column, axis=1)\n",
    "\n",
    "    return(df_train, df_test)\n",
    "\n",
    "df_train, df_test = train_test_splitter(df, 'Generation')"
   ]
  },
  {
   "cell_type": "code",
   "execution_count": null,
   "metadata": {},
   "outputs": [],
   "source": [
    "def label_delineator(df_train, df_test, label):\n",
    "    train_data = df_train.drop(label, axis=1).values\n",
    "    train_labels = df_train[label].values\n",
    "    test_data = df_test.drop(label,axis=1).values\n",
    "    test_labels = df_test[label].values\n",
    "    return(train_data, train_labels, test_data, test_labels)\n",
    "\n",
    "train_data, train_labels, test_data, test_labels = label_delineator(df_train, df_test, 'isLegendary')"
   ]
  },
  {
   "cell_type": "code",
   "execution_count": null,
   "metadata": {},
   "outputs": [],
   "source": [
    "def data_normalizer(train_data, test_data):\n",
    "    train_data = preprocessing.MinMaxScaler().fit_transform(train_data)\n",
    "    test_data = preprocessing.MinMaxScaler().fit_transform(test_data)\n",
    "    return(train_data, test_data)\n",
    "\n",
    "train_data, test_data = data_normalizer(train_data, test_data)"
   ]
  },
  {
   "cell_type": "code",
   "execution_count": null,
   "metadata": {},
   "outputs": [],
   "source": [
    "length = train_data.shape[1]\n",
    "\n",
    "model = keras.Sequential()\n",
    "model.add(keras.layers.Dense(500, activation='relu', input_shape=[length,]))\n",
    "model.add(keras.layers.Dense(2, activation='softmax'))"
   ]
  },
  {
   "cell_type": "code",
   "execution_count": null,
   "metadata": {},
   "outputs": [],
   "source": []
  }
 ],
 "metadata": {
  "kernelspec": {
   "display_name": "Python 3",
   "language": "python",
   "name": "python3"
  },
  "language_info": {
   "codemirror_mode": {
    "name": "ipython",
    "version": 3
   },
   "file_extension": ".py",
   "mimetype": "text/x-python",
   "name": "python",
   "nbconvert_exporter": "python",
   "pygments_lexer": "ipython3",
   "version": "3.6.9"
  }
 },
 "nbformat": 4,
 "nbformat_minor": 4
}
